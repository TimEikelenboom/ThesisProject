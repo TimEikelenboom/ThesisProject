{
 "cells": [
  {
   "cell_type": "code",
   "execution_count": 1,
   "metadata": {
    "colab": {},
    "colab_type": "code",
    "id": "OJ6g6vuhGquZ"
   },
   "outputs": [],
   "source": [
    "#Importing libraries\n",
    "\n",
    "import matplotlib.pyplot as plt\n",
    "import numpy as np\n",
    "import pandas as pd\n",
    "import scipy as sp\n",
    "import seaborn as sns\n",
    "import statsmodels.api as sm\n",
    "import warnings\n",
    "from statsmodels.stats.outliers_influence import variance_inflation_factor\n",
    "from statsmodels.stats.stattools import durbin_watson"
   ]
  },
  {
   "cell_type": "code",
   "execution_count": 2,
   "metadata": {
    "colab": {},
    "colab_type": "code",
    "id": "hAuRD0LuGsuA"
   },
   "outputs": [],
   "source": [
    "warnings.filterwarnings(\"ignore\")\n",
    "%matplotlib inline"
   ]
  },
  {
   "cell_type": "code",
   "execution_count": 3,
   "metadata": {
    "colab": {},
    "colab_type": "code",
    "id": "eET-2BJYHClY"
   },
   "outputs": [],
   "source": [
    "#Creating dataframe\n",
    "\n",
    "df = pd.read_csv(\"AnalysisSet.csv\")"
   ]
  },
  {
   "cell_type": "code",
   "execution_count": 4,
   "metadata": {
    "colab": {
     "base_uri": "https://localhost:8080/",
     "height": 52
    },
    "colab_type": "code",
    "id": "xuycFHBFHFMA",
    "outputId": "eedbedfb-b108-41ec-fa45-80aa1577fa94"
   },
   "outputs": [
    {
     "name": "stdout",
     "output_type": "stream",
     "text": [
      "Total number of rows in dataset = 75\n",
      "Total number of columns in dataset = 6\n"
     ]
    }
   ],
   "source": [
    "#Checking if shape is correct\n",
    "\n",
    "print (\"Total number of rows in dataset = {}\".format(df.shape[0]))\n",
    "print (\"Total number of columns in dataset = {}\".format(df.shape[1]))"
   ]
  },
  {
   "cell_type": "code",
   "execution_count": 5,
   "metadata": {
    "colab": {},
    "colab_type": "code",
    "id": "TUxWcUiCHLiI",
    "scrolled": true
   },
   "outputs": [],
   "source": [
    "#Removing pitcher's name since i don't use this variable\n",
    "\n",
    "nums = df.loc[:, df.columns != \"Pitcher\"]"
   ]
  },
  {
   "cell_type": "code",
   "execution_count": 6,
   "metadata": {},
   "outputs": [
    {
     "data": {
      "text/html": [
       "<div>\n",
       "<style scoped>\n",
       "    .dataframe tbody tr th:only-of-type {\n",
       "        vertical-align: middle;\n",
       "    }\n",
       "\n",
       "    .dataframe tbody tr th {\n",
       "        vertical-align: top;\n",
       "    }\n",
       "\n",
       "    .dataframe thead th {\n",
       "        text-align: right;\n",
       "    }\n",
       "</style>\n",
       "<table border=\"1\" class=\"dataframe\">\n",
       "  <thead>\n",
       "    <tr style=\"text-align: right;\">\n",
       "      <th></th>\n",
       "      <th>AU06</th>\n",
       "      <th>AU07</th>\n",
       "      <th>AU12</th>\n",
       "      <th>PROBINV</th>\n",
       "      <th>Ranking</th>\n",
       "    </tr>\n",
       "  </thead>\n",
       "  <tbody>\n",
       "    <tr>\n",
       "      <th>0</th>\n",
       "      <td>0.339815</td>\n",
       "      <td>0.209127</td>\n",
       "      <td>0.295099</td>\n",
       "      <td>50</td>\n",
       "      <td>2</td>\n",
       "    </tr>\n",
       "    <tr>\n",
       "      <th>1</th>\n",
       "      <td>0.212792</td>\n",
       "      <td>0.054508</td>\n",
       "      <td>0.136546</td>\n",
       "      <td>40</td>\n",
       "      <td>4</td>\n",
       "    </tr>\n",
       "    <tr>\n",
       "      <th>2</th>\n",
       "      <td>0.095570</td>\n",
       "      <td>-0.067688</td>\n",
       "      <td>0.104914</td>\n",
       "      <td>15</td>\n",
       "      <td>7</td>\n",
       "    </tr>\n",
       "    <tr>\n",
       "      <th>3</th>\n",
       "      <td>0.073363</td>\n",
       "      <td>-0.015418</td>\n",
       "      <td>0.183364</td>\n",
       "      <td>70</td>\n",
       "      <td>1</td>\n",
       "    </tr>\n",
       "    <tr>\n",
       "      <th>4</th>\n",
       "      <td>0.099521</td>\n",
       "      <td>0.023965</td>\n",
       "      <td>0.125652</td>\n",
       "      <td>30</td>\n",
       "      <td>5</td>\n",
       "    </tr>\n",
       "    <tr>\n",
       "      <th>...</th>\n",
       "      <td>...</td>\n",
       "      <td>...</td>\n",
       "      <td>...</td>\n",
       "      <td>...</td>\n",
       "      <td>...</td>\n",
       "    </tr>\n",
       "    <tr>\n",
       "      <th>70</th>\n",
       "      <td>0.390940</td>\n",
       "      <td>0.116926</td>\n",
       "      <td>0.382878</td>\n",
       "      <td>40</td>\n",
       "      <td>3</td>\n",
       "    </tr>\n",
       "    <tr>\n",
       "      <th>71</th>\n",
       "      <td>0.160149</td>\n",
       "      <td>0.297750</td>\n",
       "      <td>0.253820</td>\n",
       "      <td>80</td>\n",
       "      <td>1</td>\n",
       "    </tr>\n",
       "    <tr>\n",
       "      <th>72</th>\n",
       "      <td>0.277881</td>\n",
       "      <td>0.352732</td>\n",
       "      <td>0.468006</td>\n",
       "      <td>10</td>\n",
       "      <td>5</td>\n",
       "    </tr>\n",
       "    <tr>\n",
       "      <th>73</th>\n",
       "      <td>0.162174</td>\n",
       "      <td>0.100680</td>\n",
       "      <td>0.484292</td>\n",
       "      <td>80</td>\n",
       "      <td>2</td>\n",
       "    </tr>\n",
       "    <tr>\n",
       "      <th>74</th>\n",
       "      <td>0.247071</td>\n",
       "      <td>0.224460</td>\n",
       "      <td>0.371634</td>\n",
       "      <td>30</td>\n",
       "      <td>4</td>\n",
       "    </tr>\n",
       "  </tbody>\n",
       "</table>\n",
       "<p>75 rows × 5 columns</p>\n",
       "</div>"
      ],
      "text/plain": [
       "        AU06      AU07      AU12  PROBINV  Ranking\n",
       "0   0.339815  0.209127  0.295099       50        2\n",
       "1   0.212792  0.054508  0.136546       40        4\n",
       "2   0.095570 -0.067688  0.104914       15        7\n",
       "3   0.073363 -0.015418  0.183364       70        1\n",
       "4   0.099521  0.023965  0.125652       30        5\n",
       "..       ...       ...       ...      ...      ...\n",
       "70  0.390940  0.116926  0.382878       40        3\n",
       "71  0.160149  0.297750  0.253820       80        1\n",
       "72  0.277881  0.352732  0.468006       10        5\n",
       "73  0.162174  0.100680  0.484292       80        2\n",
       "74  0.247071  0.224460  0.371634       30        4\n",
       "\n",
       "[75 rows x 5 columns]"
      ]
     },
     "execution_count": 6,
     "metadata": {},
     "output_type": "execute_result"
    }
   ],
   "source": [
    "nums"
   ]
  },
  {
   "cell_type": "code",
   "execution_count": 7,
   "metadata": {},
   "outputs": [],
   "source": [
    "from sklearn import preprocessing"
   ]
  },
  {
   "cell_type": "code",
   "execution_count": 8,
   "metadata": {},
   "outputs": [],
   "source": [
    "#Prepraring the variables for the Regression Analysis\n",
    "\n",
    "target_col = \"PROBINV\"\n",
    "X = nums.loc[:, nums.columns != target_col]\n",
    "X = X.loc[:, X.columns != \"Ranking\" ]\n",
    "\n",
    "y = nums.loc[:, target_col]"
   ]
  },
  {
   "cell_type": "code",
   "execution_count": 9,
   "metadata": {},
   "outputs": [],
   "source": [
    "#This will be used after the regression to measure Spearman's Rank Correlation\n",
    "\n",
    "y2 = nums.loc[:, nums.columns == \"Ranking\"]"
   ]
  },
  {
   "cell_type": "code",
   "execution_count": 10,
   "metadata": {},
   "outputs": [],
   "source": [
    "#Adding a constant and creating the model\n",
    "\n",
    "X=sm.add_constant(X)\n",
    "model = sm.OLS(y, X)"
   ]
  },
  {
   "cell_type": "code",
   "execution_count": 11,
   "metadata": {
    "colab": {
     "base_uri": "https://localhost:8080/",
     "height": 104
    },
    "colab_type": "code",
    "id": "60yAyWlfHZJc",
    "outputId": "e60283c2-f63f-4574-90b8-967bc974671d"
   },
   "outputs": [
    {
     "data": {
      "text/plain": [
       "const    36.163023\n",
       "AU06    -35.248898\n",
       "AU07    -27.927430\n",
       "AU12     25.045802\n",
       "dtype: float64"
      ]
     },
     "execution_count": 11,
     "metadata": {},
     "output_type": "execute_result"
    }
   ],
   "source": [
    "results = model.fit()\n",
    "results.params"
   ]
  },
  {
   "cell_type": "code",
   "execution_count": 12,
   "metadata": {
    "colab": {
     "base_uri": "https://localhost:8080/",
     "height": 485
    },
    "colab_type": "code",
    "id": "XwX1CvbIHjaf",
    "outputId": "c12453f7-4574-4501-f5f5-1ad7c0cc0a9a",
    "scrolled": false
   },
   "outputs": [
    {
     "name": "stdout",
     "output_type": "stream",
     "text": [
      "                            OLS Regression Results                            \n",
      "==============================================================================\n",
      "Dep. Variable:                PROBINV   R-squared:                       0.036\n",
      "Model:                            OLS   Adj. R-squared:                 -0.004\n",
      "Method:                 Least Squares   F-statistic:                    0.8913\n",
      "Date:                Sun, 17 May 2020   Prob (F-statistic):              0.450\n",
      "Time:                        20:41:13   Log-Likelihood:                -344.72\n",
      "No. Observations:                  75   AIC:                             697.4\n",
      "Df Residuals:                      71   BIC:                             706.7\n",
      "Df Model:                           3                                         \n",
      "Covariance Type:            nonrobust                                         \n",
      "==============================================================================\n",
      "                 coef    std err          t      P>|t|      [0.025      0.975]\n",
      "------------------------------------------------------------------------------\n",
      "const         36.1630      5.613      6.443      0.000      24.972      47.354\n",
      "AU06         -35.2489     29.838     -1.181      0.241     -94.744      24.246\n",
      "AU07         -27.9274     29.658     -0.942      0.350     -87.063      31.208\n",
      "AU12          25.0458     29.032      0.863      0.391     -32.843      82.935\n",
      "==============================================================================\n",
      "Omnibus:                       12.273   Durbin-Watson:                   2.002\n",
      "Prob(Omnibus):                  0.002   Jarque-Bera (JB):                4.722\n",
      "Skew:                           0.335   Prob(JB):                       0.0943\n",
      "Kurtosis:                       1.970   Cond. No.                         13.8\n",
      "==============================================================================\n",
      "\n",
      "Warnings:\n",
      "[1] Standard Errors assume that the covariance matrix of the errors is correctly specified.\n"
     ]
    }
   ],
   "source": [
    "#Regression Results\n",
    "\n",
    "print(results.summary())"
   ]
  },
  {
   "cell_type": "code",
   "execution_count": 13,
   "metadata": {},
   "outputs": [
    {
     "data": {
      "text/plain": [
       "<matplotlib.axes._subplots.AxesSubplot at 0x7fa8979562e8>"
      ]
     },
     "execution_count": 13,
     "metadata": {},
     "output_type": "execute_result"
    },
    {
     "data": {
      "image/png": "[encoded data removed]",
      "text/plain": [
       "<Figure size 432x288 with 1 Axes>"
      ]
     },
     "metadata": {},
     "output_type": "display_data"
    }
   ],
   "source": [
    "#Taking a look at the predictions vs the actual values\n",
    "\n",
    "y_pred = results.predict(X)\n",
    "ax1 = sns.distplot(y, hist=False, color=\"r\", label=\"Actual Value\")\n",
    "sns.distplot(y_pred, hist=False, color=\"b\", label=\"Fitted Values\" , ax=ax1)"
   ]
  },
  {
   "cell_type": "code",
   "execution_count": 14,
   "metadata": {},
   "outputs": [
    {
     "name": "stdout",
     "output_type": "stream",
     "text": [
      "In total, there are 0 outliers.\n"
     ]
    }
   ],
   "source": [
    "#Checking for outliers using Cook's Distance\n",
    "\n",
    "from statsmodels.formula.api import ols\n",
    "infl = results.get_influence()\n",
    "sm_fr = infl.summary_frame()\n",
    "\n",
    "N = len(y)\n",
    "Non_outliers = 0\n",
    "for i in sm_fr[\"cooks_d\"]:\n",
    "    if i > 1:\n",
    "        print(\"Outlier:\",i)\n",
    "    elif i > 0.5 and i < 1:\n",
    "        print(\"Maybe an outlier:\",i)\n",
    "    else:\n",
    "        Non_outliers += 1        \n",
    "print(\"In total, there are\", N - Non_outliers, \"outliers.\")"
   ]
  },
  {
   "cell_type": "code",
   "execution_count": 15,
   "metadata": {
    "colab": {
     "base_uri": "https://localhost:8080/",
     "height": 79
    },
    "colab_type": "code",
    "id": "g0Mbh6kZ3t3a",
    "outputId": "29d0f7cd-0927-4ecb-d03a-4c5faf68aedc",
    "scrolled": true
   },
   "outputs": [
    {
     "data": {
      "text/html": [
       "<div>\n",
       "<style scoped>\n",
       "    .dataframe tbody tr th:only-of-type {\n",
       "        vertical-align: middle;\n",
       "    }\n",
       "\n",
       "    .dataframe tbody tr th {\n",
       "        vertical-align: top;\n",
       "    }\n",
       "\n",
       "    .dataframe thead th {\n",
       "        text-align: right;\n",
       "    }\n",
       "</style>\n",
       "<table border=\"1\" class=\"dataframe\">\n",
       "  <thead>\n",
       "    <tr style=\"text-align: right;\">\n",
       "      <th></th>\n",
       "      <th>const</th>\n",
       "      <th>AU06</th>\n",
       "      <th>AU07</th>\n",
       "      <th>AU12</th>\n",
       "    </tr>\n",
       "  </thead>\n",
       "  <tbody>\n",
       "    <tr>\n",
       "      <th>vif</th>\n",
       "      <td>3.888526</td>\n",
       "      <td>1.867062</td>\n",
       "      <td>1.163715</td>\n",
       "      <td>1.90824</td>\n",
       "    </tr>\n",
       "  </tbody>\n",
       "</table>\n",
       "</div>"
      ],
      "text/plain": [
       "        const      AU06      AU07     AU12\n",
       "vif  3.888526  1.867062  1.163715  1.90824"
      ]
     },
     "execution_count": 15,
     "metadata": {},
     "output_type": "execute_result"
    }
   ],
   "source": [
    "#Checking for Multicollinearity\n",
    "\n",
    "vif = [variance_inflation_factor(X.values, i) for i in range(X.shape[1])]\n",
    "pd.DataFrame({'vif': vif[0:]}, index=X.columns).T"
   ]
  },
  {
   "cell_type": "code",
   "execution_count": 16,
   "metadata": {},
   "outputs": [],
   "source": [
    "y_pred = results.predict(X)\n",
    "residuals = y - y_pred"
   ]
  },
  {
   "cell_type": "code",
   "execution_count": 17,
   "metadata": {},
   "outputs": [
    {
     "data": {
      "text/plain": [
       "<matplotlib.axes._subplots.AxesSubplot at 0x7fa8978ccd68>"
      ]
     },
     "execution_count": 17,
     "metadata": {},
     "output_type": "execute_result"
    },
    {
     "data": {
      "image/png": "[encoded data removed]",
      "text/plain": [
       "<Figure size 432x288 with 1 Axes>"
      ]
     },
     "metadata": {},
     "output_type": "display_data"
    }
   ],
   "source": [
    "#Checking for normality of residuals\n",
    "\n",
    "sns.distplot(residuals)"
   ]
  },
  {
   "cell_type": "code",
   "execution_count": 18,
   "metadata": {
    "colab": {
     "base_uri": "https://localhost:8080/",
     "height": 214
    },
    "colab_type": "code",
    "id": "k9kK7sVr9Ulu",
    "outputId": "f82c0647-af00-4928-a092-39cc377ba657"
   },
   "outputs": [
    {
     "data": {
      "image/png": "[encoded data removed]",
      "text/plain": [
       "<Figure size 432x180 with 1 Axes>"
      ]
     },
     "metadata": {},
     "output_type": "display_data"
    }
   ],
   "source": [
    "fig, ax = plt.subplots(figsize=(6,2.5))\n",
    "_, (__, ___, r) = sp.stats.probplot(residuals, plot=ax, fit=True)"
   ]
  },
  {
   "cell_type": "code",
   "execution_count": 19,
   "metadata": {
    "colab": {
     "base_uri": "https://localhost:8080/",
     "height": 184
    },
    "colab_type": "code",
    "id": "xb11PpM59XM1",
    "outputId": "4a6e60b6-69f2-432c-e899-c50944e0f98e"
   },
   "outputs": [
    {
     "data": {
      "image/png": "[encoded data removed]",
      "text/plain": [
       "<Figure size 432x324 with 1 Axes>"
      ]
     },
     "metadata": {},
     "output_type": "display_data"
    }
   ],
   "source": [
    "#Checking for heteroscedasticity\n",
    "\n",
    "fig, ax = plt.subplots(figsize=(6,4.5))\n",
    "_ = ax.scatter(y_pred, residuals)"
   ]
  },
  {
   "cell_type": "code",
   "execution_count": 20,
   "metadata": {
    "colab": {
     "base_uri": "https://localhost:8080/",
     "height": 281
    },
    "colab_type": "code",
    "id": "XQr_qb793cl_",
    "outputId": "ce114842-8ac9-410e-f4b6-f080d6bc8955"
   },
   "outputs": [
    {
     "data": {
      "text/plain": [
       "2.0022775751855795"
      ]
     },
     "execution_count": 20,
     "metadata": {},
     "output_type": "execute_result"
    }
   ],
   "source": [
    "#Checking for indepedent residuals\n",
    "\n",
    "durbin_watson(residuals)"
   ]
  },
  {
   "cell_type": "code",
   "execution_count": 21,
   "metadata": {},
   "outputs": [],
   "source": [
    "X1 = X.loc[:, \"AU06\"]\n",
    "X2 = X.loc[:, \"AU07\"]\n",
    "X3 = X.loc[:, \"AU12\"]"
   ]
  },
  {
   "cell_type": "code",
   "execution_count": 22,
   "metadata": {},
   "outputs": [
    {
     "name": "stdout",
     "output_type": "stream",
     "text": [
      "SpearmanrResult(correlation=0.08123392466855331, pvalue=0.4884120438310485)\n",
      "SpearmanrResult(correlation=0.09418300936598477, pvalue=0.4215482880755268)\n",
      "SpearmanrResult(correlation=-0.09508944529480495, pvalue=0.41707373210364507)\n"
     ]
    }
   ],
   "source": [
    "#Spearman Rank to look at the relationship between the IV's and ranking individually\n",
    "print(sp.stats.spearmanr(y2, X1))\n",
    "print(sp.stats.spearmanr(y2, X2))\n",
    "print(sp.stats.spearmanr(y2, X3))"
   ]
  }
 ],
 "metadata": {
  "colab": {
   "collapsed_sections": [],
   "name": "Untitled1.ipynb",
   "provenance": []
  },
  "kernelspec": {
   "display_name": "Python 3",
   "language": "python",
   "name": "python3"
  },
  "language_info": {
   "codemirror_mode": {
    "name": "ipython",
    "version": 3
   },
   "file_extension": ".py",
   "mimetype": "text/x-python",
   "name": "python",
   "nbconvert_exporter": "python",
   "pygments_lexer": "ipython3",
   "version": "3.5.3"
  }
 },
 "nbformat": 4,
 "nbformat_minor": 1
}
